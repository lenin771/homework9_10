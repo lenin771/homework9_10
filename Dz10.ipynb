{
 "cells": [
  {
   "cell_type": "code",
   "execution_count": 1,
   "id": "af8e07b6",
   "metadata": {},
   "outputs": [],
   "source": [
    "#1. Провести дисперсионный анализ для определения того, есть ли различия среднего роста среди взрослых футболистов, хоккеистов и штангистов. \n",
    "#Даны значения роста в трех группах случайно выбранных спортсменов:\n",
    "#Футболисты: 173, 175, 180, 178, 177, 185, 183, 182.\n",
    "#Хоккеисты: 177, 179, 180, 188, 177, 172, 171, 184, 180.\n",
    "#Штангисты: 172, 173, 169, 177, 166, 180, 178, 177, 172, 166, 170."
   ]
  },
  {
   "cell_type": "code",
   "execution_count": 2,
   "id": "795c2c01",
   "metadata": {},
   "outputs": [],
   "source": [
    "import numpy as np\n",
    "import pandas as pd\n",
    "from scipy import stats\n",
    "\n",
    "Footballers=np.array([173, 175, 180, 178, 177, 185, 183, 182,])\n",
    "Hockey_players=np.array([177, 179, 180, 188, 177, 172, 171, 184, 180])\n",
    "Weightlifters=np.array([172, 173, 169, 177, 166, 180, 178, 177, 172, 166, 170])"
   ]
  },
  {
   "cell_type": "code",
   "execution_count": 3,
   "id": "773826ed",
   "metadata": {},
   "outputs": [],
   "source": [
    "#Yулевая гипотеза:\n",
    "#Различий среднего роста среди взрослых спотрсменов не имеется.\n",
    "#H0:u1=u2=u3\n",
    "\n",
    "#Альтернативная гипотеза:\n",
    "#Имеются различия среднего роста среди взрослых спотрсменов.\n",
    "#H0:u1<>u2<>u3"
   ]
  },
  {
   "cell_type": "code",
   "execution_count": 4,
   "id": "ffc271ee",
   "metadata": {},
   "outputs": [],
   "source": [
    "k=3\n",
    "n=28"
   ]
  },
  {
   "cell_type": "code",
   "execution_count": 5,
   "id": "828aa89c",
   "metadata": {},
   "outputs": [
    {
     "name": "stdout",
     "output_type": "stream",
     "text": [
      "Средний рост футболиста=179.12500\n"
     ]
    }
   ],
   "source": [
    "Footballers_mean=np.mean(Footballers)\n",
    "print('Средний рост футболиста=%.5f' % (Footballers_mean))"
   ]
  },
  {
   "cell_type": "code",
   "execution_count": 6,
   "id": "0654c50a",
   "metadata": {},
   "outputs": [
    {
     "name": "stdout",
     "output_type": "stream",
     "text": [
      "Средний рост хоккеиста=178.66667\n"
     ]
    }
   ],
   "source": [
    "Hockey_players_mean=np.mean(Hockey_players)\n",
    "print('Средний рост хоккеиста=%.5f' % (Hockey_players_mean))"
   ]
  },
  {
   "cell_type": "code",
   "execution_count": 7,
   "id": "026b7c13",
   "metadata": {},
   "outputs": [
    {
     "name": "stdout",
     "output_type": "stream",
     "text": [
      "Средний рост штангиста=172.72727\n"
     ]
    }
   ],
   "source": [
    "Weightlifters_mean=np.mean(Weightlifters)\n",
    "print('Средний рост штангиста=%.5f' % (Weightlifters_mean))"
   ]
  },
  {
   "cell_type": "code",
   "execution_count": 8,
   "id": "a243c671",
   "metadata": {},
   "outputs": [
    {
     "name": "stdout",
     "output_type": "stream",
     "text": [
      "Сумма квадратов отклонений средних групповых значений от общего среднего=20270.61599\n"
     ]
    }
   ],
   "source": [
    "S_f=np.sum((Footballers_mean-149.727)**2)*8+np.sum((Hockey_players_mean-149.727)**2)*9+np.sum((Weightlifters_mean-149.727)**2)*11\n",
    "print('Сумма квадратов отклонений средних групповых значений от общего среднего=%.5f' % (S_f))"
   ]
  },
  {
   "cell_type": "code",
   "execution_count": 9,
   "id": "20147030",
   "metadata": {},
   "outputs": [
    {
     "name": "stdout",
     "output_type": "stream",
     "text": [
      "Остаточная сумма квадратов отклонений=577.05682\n"
     ]
    }
   ],
   "source": [
    "S_ost=np.sum((Footballers-Footballers_mean)**2)+np.sum((Hockey_players-Hockey_players_mean)**2)+np.sum((Weightlifters-Weightlifters_mean)**2)\n",
    "print('Остаточная сумма квадратов отклонений=%.5f' % (S_ost))"
   ]
  },
  {
   "cell_type": "code",
   "execution_count": 10,
   "id": "78606729",
   "metadata": {},
   "outputs": [
    {
     "data": {
      "text/plain": [
       "20847.672811999986"
      ]
     },
     "execution_count": 10,
     "metadata": {},
     "output_type": "execute_result"
    }
   ],
   "source": [
    "S_f+S_ost"
   ]
  },
  {
   "cell_type": "code",
   "execution_count": 11,
   "id": "dc7a3c7a",
   "metadata": {},
   "outputs": [
    {
     "name": "stdout",
     "output_type": "stream",
     "text": [
      "Факторная дисперсия=10135.30800\n"
     ]
    }
   ],
   "source": [
    "D_f=S_f/(k-1)\n",
    "print('Факторная дисперсия=%.5f' % (D_f))"
   ]
  },
  {
   "cell_type": "code",
   "execution_count": 12,
   "id": "42d87ceb",
   "metadata": {},
   "outputs": [
    {
     "name": "stdout",
     "output_type": "stream",
     "text": [
      "Остаточная дисперсия=23.08227\n"
     ]
    }
   ],
   "source": [
    "D_ost=S_ost/(n-k)\n",
    "print('Остаточная дисперсия=%.5f' % (D_ost))"
   ]
  },
  {
   "cell_type": "code",
   "execution_count": 13,
   "id": "e86b2175",
   "metadata": {},
   "outputs": [
    {
     "name": "stdout",
     "output_type": "stream",
     "text": [
      "Наблюдаемый критерий Фишера=439.09489\n"
     ]
    }
   ],
   "source": [
    "F_n=D_f/D_ost\n",
    "print('Наблюдаемый критерий Фишера=%.5f' % (F_n))"
   ]
  },
  {
   "cell_type": "code",
   "execution_count": null,
   "id": "37eafff3",
   "metadata": {},
   "outputs": [],
   "source": [
    "#Однофакторный дисперсионный анализ\n",
    "f=stats.f_oneway(Footballers, Hockey_players, Weightlifters)\n",
    "\n",
    "stat, p = stats.f_oneway(Footballers, Hockey_players, Weightlifters)\n",
    "print('Statistics=%.5f, p-value=%.5f' % (stat, p))\n",
    "\n",
    "alpha = 0.05\n",
    "if p > alpha:\n",
    "    print('Различий среднего роста среди взрослых спотрсменов не имеется')\n",
    "else:\n",
    "    print('Имеются различия среднего роста среди взрослых спотрсменов')"
   ]
  },
  {
   "cell_type": "markdown",
   "id": "019ff417",
   "metadata": {},
   "source": [
    "a=0.05 p-value=0.01048 => отвергаем нулевую гипотезу"
   ]
  }
 ],
 "metadata": {
  "kernelspec": {
   "display_name": "Python 3.7.9 64-bit",
   "language": "python",
   "name": "python3"
  },
  "language_info": {
   "codemirror_mode": {
    "name": "ipython",
    "version": 3
   },
   "file_extension": ".py",
   "mimetype": "text/x-python",
   "name": "python",
   "nbconvert_exporter": "python",
   "pygments_lexer": "ipython3",
   "version": "3.7.9"
  },
  "vscode": {
   "interpreter": {
    "hash": "ce443e4b40327a5fc86282713896d8ad413115b75c1c5be4a78c2a5c00adb138"
   }
  }
 },
 "nbformat": 4,
 "nbformat_minor": 5
}
